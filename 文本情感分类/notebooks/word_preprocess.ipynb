{
 "cells": [
  {
   "cell_type": "code",
   "execution_count": 1,
   "metadata": {},
   "outputs": [
    {
     "name": "stdout",
     "output_type": "stream",
     "text": [
      "0\n",
      "(['talk', 'about', 'your', 'waste', 'of', 'money', 'im', 'just', 'wondering', 'why', 'michael', 'would', 'star', 'in', 'such', 'a', 'turkey', 'of', 'a', 'movie', 'michael', 'is', 'a', 'great', 'actor', 'especially', 'in', 'the', 'movie', 'where', 'he', 'plays', 'a', 'man', 'dying', 'of', 'cancer', 'that', 'was', 'wonderful', 'as', 'he', 'tapes', 'himself', 'for', 'his', 'son', 'to', 'see', 'it', 'once', 'he', 'grows', 'up', 'michael', 'is', 'such', 'a', 'talented', 'actor', 'so', 'what', 'made', 'him', 'do', 'this', 'one???', 'i', 'watched', 'it', 'and', 'thought', 'it', 'was', 'really', 'dumb', 'i', 'guess', 'at', 'one', 'time', 'in', 'their', 'career', 'they', 'have', 'the', 'crappy', 'movies', 'especially', '\"the', 'squeeze\"', 'i', 'didnt', 'understand', 'that', 'one', 'at', 'all,', 'and', 'i', 'feel', 'his', 'best', 'performance', 'was', 'in', '\"pacific', 'heights\"', ',', 'his', 'character', 'really', 'creeped', 'me', 'out', 'and', 'i', 'really', 'enjoyed', '\"multiplicity\"', 'that', 'one', 'was', 'so', 'hilarious', '!!!', 'and', 'he', 'was', 'just', 'perfect', 'for', 'the', 'role', 'of', '\"batman\"', 'and', 'i', 'kind', 'of', 'liked', '\"night', 'shift\"', 'and', 'i', 'love', '\"johnny', 'dangerously\"', 'too', 'just', 'too', 'bad', 'some', 'of', 'them', 'end', 'up', 'doing', 'lousy', 'movies', 'like', 'this', 'one', 'was'], ['the', 'title', 'overstates', 'the', 'content', 'of', 'this', 'movie', 'somewhat,', 'which', 'might', 'lead', 'to', 'some', 'unrealized', 'expectations', 'frankly', 'speaking,', \"there's\", 'very', 'little', '\"panic', 'in', 'the', 'streets\"', 'to', 'be', 'seen', 'here', 'in', 'fact,', 'throughout', 'the', 'movie', 'very', 'few', 'people', 'actually', 'know', 'that', \"there's\", 'a', 'murderer', 'on', 'the', 'loose', 'who', 'may', 'well', 'be', 'spreading', 'the', 'plague', 'to', 'everyone', 'and', 'anyone', 'he', 'encounters', 'having', 'said', 'that,', 'what', 'we', 'do', 'have', 'here', 'is', 'a', 'very', 'well', 'done', 'story', 'with', 'a', 'level', 'of', 'suspense', 'that', 'starts', 'out', 'reasonably', 'high', 'anyway', 'because,', 'unlike', 'the', 'people', '\"in', 'the', 'streets\",', 'the', 'viewer', 'knows', \"what's\", 'going', 'on', 'and', 'that', 'director', 'elia', 'kazan', 'builds', 'very', 'deliberately', 'as', 'the', 'plague-infected', 'killer', 'is', 'sought,', 'one', 'of', 'the', 'more', 'interesting', 'sidebars', 'i', 'found', 'was', 'the', 'developing', 'relationship', 'between', 'dr', 'reed', 'richard', 'widmark', 'and', 'police', 'captain', 'warren', 'paul', 'douglas', 'at', 'the', 'beginning,', 'the', 'two', 'really', \"don't\", 'like', 'each', 'other,', 'even', 'though', 'they', 'have', 'to', 'work', 'together', 'by', 'the', 'end,', \"they've\", 'forged', 'a', 'real', 'bond', 'of', 'respect', 'for', 'each', 'other', 'kazan', 'did', 'a', 'good', 'job', 'with', 'that', 'pretty', 'much', 'all', 'the', 'performances', 'here', 'were', 'excellent', 'widmark', 'and', 'douglas', 'were', 'great,', 'and', 'i', 'was', 'quite', 'taken', 'with', 'a', 'very', 'early', 'look', 'at', 'jack', 'palance', 'playing', 'what', 'would', 'become', 'his', 'typical', '\"heavy\"', 'role', 'i', 'found', 'very', 'little', 'to', 'criticize', 'here', 'perhaps', 'barbara', 'bel', 'geddes', 'came', 'across', 'as', 'a', 'little', 'bit', 'flat', 'as', \"reed's\", 'wife', 'nancy,', 'but', 'her', 'role', \"wasn't\", 'really', 'central', 'to', 'the', 'story', 'all', 'in', 'all,', 'an', 'excellent', 'piece', 'of', 'work', '9/10'])\n",
      "(0, 1)\n"
     ]
    }
   ],
   "source": [
    "import torch.nn as nn\n",
    "from torch.utils.data import Dataset,DataLoader\n",
    "import os\n",
    "import re\n",
    "\n",
    "def tokenlize(content):\n",
    "    content = re.sub(\"<.*?>\",\" \",content)\n",
    "    filters = ['\\t','\\n','\\x97','\\x96','#','$','%','&','\\.',':','\\(','\\)','\\*']\n",
    "    content = re.sub(\"|\".join(filters),' ',content,flags=re.S)\n",
    "    tokens = [i.strip().lower() for i in content.split()]\n",
    "    return tokens\n",
    "\n",
    "class ImdbDataSet(Dataset):\n",
    "    def __init__(self,train=True):\n",
    "        super(ImdbDataSet,self).__init__()\n",
    "        self.train_set_path = '../../dataset/aclImdb/train'\n",
    "        self.test_set_path = '../../dataset/aclImdb/test'\n",
    "        self.data_path = self.train_set_path if train else self.test_set_path\n",
    "        temp_data_path = [os.path.join(self.data_path,'pos'),os.path.join(self.data_path,'neg')]\n",
    "        self.total_data_path = []\n",
    "        for path in temp_data_path:\n",
    "            dir_list = os.listdir(path)\n",
    "            file_path_list = [os.path.join(path,i) for i in dir_list if i.endswith('.txt')]\n",
    "            self.total_data_path.extend(file_path_list)   \n",
    "        \n",
    "    def __getitem__(self, index):\n",
    "        file_path = self.total_data_path[index]\n",
    "        label_str = file_path.split(\"\\\\\")[-2]\n",
    "        label = 1 if label_str=='pos' else 0\n",
    "        content = open(file_path,encoding=\"utf-8\").read()\n",
    "        token = tokenlize(content)\n",
    "        return token,label\n",
    "    \n",
    "    def __len__(self):\n",
    "        return len(self.total_data_path)\n",
    "    \n",
    "def collate_fn(batch):\n",
    "    content,label = list(zip(*batch))\n",
    "    return content,label\n",
    "    \n",
    "def get_dataloader(train=True):\n",
    "    imdb_dataset = ImdbDataSet(train=train)\n",
    "    dataloader = DataLoader(dataset=imdb_dataset,batch_size=2,shuffle=True,collate_fn=collate_fn)\n",
    "    return dataloader\n",
    "\n",
    "for idx,(input,target) in enumerate(get_dataloader()):\n",
    "    print(idx) \n",
    "    print(input) \n",
    "    print(target) \n",
    "    break"
   ]
  }
 ],
 "metadata": {
  "kernelspec": {
   "display_name": "Python 3",
   "language": "python",
   "name": "python3"
  },
  "language_info": {
   "codemirror_mode": {
    "name": "ipython",
    "version": 3
   },
   "file_extension": ".py",
   "mimetype": "text/x-python",
   "name": "python",
   "nbconvert_exporter": "python",
   "pygments_lexer": "ipython3",
   "version": "3.11.1"
  }
 },
 "nbformat": 4,
 "nbformat_minor": 2
}
