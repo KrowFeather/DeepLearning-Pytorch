{
 "cells": [
  {
   "cell_type": "code",
   "execution_count": 1,
   "metadata": {},
   "outputs": [],
   "source": [
    "import numpy as np\n"
   ]
  },
  {
   "cell_type": "code",
   "execution_count": 11,
   "metadata": {},
   "outputs": [
    {
     "name": "stdout",
     "output_type": "stream",
     "text": [
      "{'UNK': 0, 'PAD': 1, '我': 2, '是': 3, '谁': 4}\n",
      "[2, 0, 0]\n",
      "['我', 'UNK', 'UNK']\n"
     ]
    }
   ],
   "source": [
    "class Word2Sequece():\n",
    "    UNK_TAG = 'UNK'\n",
    "    PAD_TAG = 'PAD'\n",
    "    UNK = 0\n",
    "    PAD = 1\n",
    "    \n",
    "    def __init__(self):\n",
    "        self.dict = {\n",
    "            self.UNK_TAG:self.UNK,\n",
    "            self.PAD_TAG:self.PAD\n",
    "        }    \n",
    "        self.count = {}\n",
    "        self.inverse_dict = {}\n",
    "    \n",
    "    def fit(self,sentence):\n",
    "        for word in sentence:\n",
    "            self.count[word] = self.count.get(word,0) + 1\n",
    "            \n",
    "    def build_vocab(self,min=5,max=None,max_features=None):\n",
    "        if min is not None:\n",
    "            self.count = {word:value for word,value in self.count.items() if value>min}\n",
    "        if max is not None:\n",
    "            self.count = {word:value for word,value in self.count.items() if value<max}\n",
    "        if max_features is not None:\n",
    "            temp = sorted(self.count.items(),key=lambda x:x[-1],reverse=True)[:max_features]\n",
    "            self.count = dict(temp)\n",
    "        for word in self.count:\n",
    "            self.dict[word] = len(self.dict)\n",
    "            \n",
    "        self.inverse_dict = dict(zip(self.dict.values(),self.dict.keys()))\n",
    "        \n",
    "    def transform(self,sentence,max_len=None):\n",
    "        if max_len is not None:\n",
    "            if max_len > len(sentence):\n",
    "                sentence = sentence+[self.PAD_TAG]*(max_len-len(sentence))\n",
    "            if max_len < len(sentence):\n",
    "                sentence = sentence[:max_len]\n",
    "                \n",
    "        return [self.dict.get(word,self.UNK) for word in sentence]\n",
    "    \n",
    "    def inverse_transform(self,indices):\n",
    "        return [self.inverse_dict.get(idx) for idx in indices]\n",
    "    \n"
   ]
  },
  {
   "cell_type": "code",
   "execution_count": 12,
   "metadata": {},
   "outputs": [
    {
     "name": "stdout",
     "output_type": "stream",
     "text": [
      "{'UNK': 0, 'PAD': 1, '我': 2, '是': 3, '谁': 4}\n",
      "[2, 0, 0, 1, 1, 1, 1, 1, 1, 1]\n",
      "['我', 'UNK', 'UNK', 'PAD', 'PAD', 'PAD', 'PAD', 'PAD', 'PAD', 'PAD']\n"
     ]
    }
   ],
   "source": [
    "ws = Word2Sequece()\n",
    "ws.fit(['我','是','谁'])\n",
    "ws.fit(['我','是','我'])\n",
    "ws.build_vocab(min = 0)\n",
    "print(ws.dict)\n",
    "ret = ws.transform(['我','爱','北京'],max_len=10)\n",
    "print(ret)\n",
    "ret = ws.inverse_transform(ret)\n",
    "print(ret)"
   ]
  }
 ],
 "metadata": {
  "kernelspec": {
   "display_name": "Python 3",
   "language": "python",
   "name": "python3"
  },
  "language_info": {
   "codemirror_mode": {
    "name": "ipython",
    "version": 3
   },
   "file_extension": ".py",
   "mimetype": "text/x-python",
   "name": "python",
   "nbconvert_exporter": "python",
   "pygments_lexer": "ipython3",
   "version": "3.11.1"
  }
 },
 "nbformat": 4,
 "nbformat_minor": 2
}
